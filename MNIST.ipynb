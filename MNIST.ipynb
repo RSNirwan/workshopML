{
 "cells": [
  {
   "cell_type": "code",
   "execution_count": 1,
   "metadata": {
    "colab": {},
    "colab_type": "code",
    "id": "tynDHKG4zlPP"
   },
   "outputs": [],
   "source": [
    "import warnings; warnings.simplefilter('ignore')"
   ]
  },
  {
   "cell_type": "code",
   "execution_count": 2,
   "metadata": {
    "colab": {},
    "colab_type": "code",
    "id": "skFBOzHnzlPc"
   },
   "outputs": [],
   "source": [
    "import numpy as np\n",
    "import matplotlib.pyplot as plt\n",
    "import pandas as pd\n",
    "\n",
    "%matplotlib inline"
   ]
  },
  {
   "cell_type": "code",
   "execution_count": 3,
   "metadata": {
    "colab": {
     "base_uri": "https://localhost:8080/",
     "height": 35
    },
    "colab_type": "code",
    "executionInfo": {
     "elapsed": 1842,
     "status": "ok",
     "timestamp": 1559573201264,
     "user": {
      "displayName": "Rajbir Nirwan",
      "photoUrl": "",
      "userId": "17340735363459835320"
     },
     "user_tz": -120
    },
    "id": "HRgmsRN4zlPi",
    "outputId": "e4f628fb-aa27-4bf4-df72-a6518c498718"
   },
   "outputs": [
    {
     "name": "stdout",
     "output_type": "stream",
     "text": [
      "(N, D) = (1797, 64)\n"
     ]
    }
   ],
   "source": [
    "from sklearn.datasets import load_digits\n",
    "\n",
    "digits = load_digits()\n",
    "X = digits.data\n",
    "y = digits.target\n",
    "\n",
    "N, D = X.shape\n",
    "print(\"(N, D) = ({}, {})\".format(N, D))"
   ]
  },
  {
   "cell_type": "code",
   "execution_count": 4,
   "metadata": {
    "colab": {
     "base_uri": "https://localhost:8080/",
     "height": 281
    },
    "colab_type": "code",
    "executionInfo": {
     "elapsed": 1835,
     "status": "ok",
     "timestamp": 1559573201272,
     "user": {
      "displayName": "Rajbir Nirwan",
      "photoUrl": "",
      "userId": "17340735363459835320"
     },
     "user_tz": -120
    },
    "id": "jRMizcXpzlPu",
    "outputId": "32516971-8338-415e-ca39-08bd19daad04"
   },
   "outputs": [
    {
     "data": {
      "image/png": "[encoded data removed]",
      "text/plain": [
       "<Figure size 432x288 with 1 Axes>"
      ]
     },
     "metadata": {
      "needs_background": "light"
     },
     "output_type": "display_data"
    }
   ],
   "source": [
    "#print some random number\n",
    "def plot_image(X, y):\n",
    "    plt.imshow(X, cmap=plt.cm.gray_r)\n",
    "    plt.title('Label: {}'.format(y))\n",
    "    \n",
    "rand = np.random.randint(0, N)\n",
    "plot_image(X[rand].reshape(8,8), y[rand])"
   ]
  },
  {
   "cell_type": "code",
   "execution_count": 5,
   "metadata": {
    "colab": {
     "base_uri": "https://localhost:8080/",
     "height": 267
    },
    "colab_type": "code",
    "executionInfo": {
     "elapsed": 2572,
     "status": "ok",
     "timestamp": 1559573202023,
     "user": {
      "displayName": "Rajbir Nirwan",
      "photoUrl": "",
      "userId": "17340735363459835320"
     },
     "user_tz": -120
    },
    "id": "Fuh9kvvezlP0",
    "outputId": "d8bb3536-a3c1-483c-e169-1ad9b224164d"
   },
   "outputs": [
    {
     "name": "stdout",
     "output_type": "stream",
     "text": [
      "N_train, D_train:  (1257, 64)\n",
      "N_test, D_test:  (540, 64)\n",
      "Accuracy on training set: 0.9777247414478918\n",
      "Accuracy on test set: 0.9611111111111111\n",
      "[[52  0  0  0  0  0  0  0  0  0]\n",
      " [ 0 45  0  0  0  0  0  0  0  0]\n",
      " [ 0  0 48  0  0  0  0  0  0  0]\n",
      " [ 0  0  1 59  0  1  0  1  3  1]\n",
      " [ 0  0  0  0 47  0  0  0  0  2]\n",
      " [ 0  0  0  0  0 46  0  0  0  1]\n",
      " [ 0  2  0  0  0  0 60  0  1  0]\n",
      " [ 0  0  0  0  0  0  0 57  0  1]\n",
      " [ 0  3  1  1  0  0  0  0 53  1]\n",
      " [ 0  0  0  0  0  0  0  0  1 52]]\n"
     ]
    }
   ],
   "source": [
    "from sklearn.linear_model import LogisticRegression\n",
    "from sklearn.svm import SVC\n",
    "from sklearn.model_selection import train_test_split\n",
    "from sklearn.metrics import confusion_matrix\n",
    "\n",
    "\n",
    "X_train, X_test, y_train, y_test = train_test_split(X, y, test_size=0.3)\n",
    "N_train, D_train = X_train.shape\n",
    "N_test, D_test = X_test.shape\n",
    "\n",
    "#normalize data\n",
    "X_train = X_train/16.\n",
    "X_test = X_test/16.\n",
    "\n",
    "print(\"N_train, D_train: \", (N_train, D_train))\n",
    "print(\"N_test, D_test: \", (N_test, D_test))\n",
    "\n",
    "\n",
    "# train linear model and predict\n",
    "lr = LogisticRegression()\n",
    "lr.fit(X_train, y_train)\n",
    "y_pred = lr.predict(X_test)\n",
    "\n",
    "\n",
    "# metrics - how good are we?\n",
    "print(\"Accuracy on training set: {}\".format(lr.score(X_train, y_train)))\n",
    "print(\"Accuracy on test set: {}\".format(lr.score(X_test, y_test)))\n",
    "\n",
    "cm = confusion_matrix(y_test, y_pred)\n",
    "print(cm)"
   ]
  },
  {
   "cell_type": "code",
   "execution_count": 6,
   "metadata": {
    "colab": {
     "base_uri": "https://localhost:8080/",
     "height": 299
    },
    "colab_type": "code",
    "executionInfo": {
     "elapsed": 2882,
     "status": "ok",
     "timestamp": 1559573202349,
     "user": {
      "displayName": "Rajbir Nirwan",
      "photoUrl": "",
      "userId": "17340735363459835320"
     },
     "user_tz": -120
    },
    "id": "_YMsj7WuzlP5",
    "outputId": "be8d8910-740f-417d-dc62-82259b7380f7"
   },
   "outputs": [
    {
     "name": "stdout",
     "output_type": "stream",
     "text": [
      "Predicted value: 4\n"
     ]
    },
    {
     "data": {
      "image/png": "[encoded data removed]",
      "text/plain": [
       "<Figure size 432x288 with 1 Axes>"
      ]
     },
     "metadata": {
      "needs_background": "light"
     },
     "output_type": "display_data"
    }
   ],
   "source": [
    "#plot some predicted images\n",
    "rand = np.random.randint(0, X_test.shape[0])\n",
    "plot_image(X_test[rand].reshape(8,8), y_test[rand])\n",
    "print(\"Predicted value: {}\".format(y_pred[rand]))"
   ]
  },
  {
   "cell_type": "code",
   "execution_count": null,
   "metadata": {
    "colab": {},
    "colab_type": "code",
    "id": "l81GR9qyzlQA"
   },
   "outputs": [],
   "source": []
  },
  {
   "cell_type": "code",
   "execution_count": null,
   "metadata": {
    "colab": {},
    "colab_type": "code",
    "id": "DKrciBubzlQF"
   },
   "outputs": [],
   "source": []
  },
  {
   "cell_type": "markdown",
   "metadata": {
    "colab_type": "text",
    "id": "zgxaB87gzlQM"
   },
   "source": [
    "## MNIST Original"
   ]
  },
  {
   "cell_type": "code",
   "execution_count": 7,
   "metadata": {
    "colab": {
     "base_uri": "https://localhost:8080/",
     "height": 88
    },
    "colab_type": "code",
    "executionInfo": {
     "elapsed": 38649,
     "status": "ok",
     "timestamp": 1559573238131,
     "user": {
      "displayName": "Rajbir Nirwan",
      "photoUrl": "",
      "userId": "17340735363459835320"
     },
     "user_tz": -120
    },
    "id": "wfgh363fzlQR",
    "outputId": "3c77f02b-0362-40fb-f188-e75a828c52cd"
   },
   "outputs": [
    {
     "name": "stdout",
     "output_type": "stream",
     "text": [
      "(70000, 784)\n",
      "(70000,)\n",
      "CPU times: user 15.4 s, sys: 408 ms, total: 15.8 s\n",
      "Wall time: 15.8 s\n"
     ]
    }
   ],
   "source": [
    "%%time\n",
    "from sklearn.datasets import fetch_openml\n",
    "X, y = fetch_openml('mnist_784', version=1, return_X_y=True)\n",
    "\n",
    "print(X.shape)\n",
    "print(y.shape)"
   ]
  },
  {
   "cell_type": "code",
   "execution_count": 8,
   "metadata": {
    "colab": {
     "base_uri": "https://localhost:8080/",
     "height": 281
    },
    "colab_type": "code",
    "executionInfo": {
     "elapsed": 38646,
     "status": "ok",
     "timestamp": 1559573238138,
     "user": {
      "displayName": "Rajbir Nirwan",
      "photoUrl": "",
      "userId": "17340735363459835320"
     },
     "user_tz": -120
    },
    "id": "M4KAdp6bzlQY",
    "outputId": "181e0b3e-9349-4d59-f5f9-8b0a53e48299"
   },
   "outputs": [
    {
     "data": {
      "image/png": "[encoded data removed]",
      "text/plain": [
       "<Figure size 432x288 with 1 Axes>"
      ]
     },
     "metadata": {
      "needs_background": "light"
     },
     "output_type": "display_data"
    }
   ],
   "source": [
    "rand = np.random.randint(0, X.shape[0])\n",
    "plot_image(X[rand].reshape(28,28), y[rand])"
   ]
  },
  {
   "cell_type": "code",
   "execution_count": 9,
   "metadata": {
    "colab": {
     "base_uri": "https://localhost:8080/",
     "height": 303
    },
    "colab_type": "code",
    "executionInfo": {
     "elapsed": 110485,
     "status": "ok",
     "timestamp": 1559573309988,
     "user": {
      "displayName": "Rajbir Nirwan",
      "photoUrl": "",
      "userId": "17340735363459835320"
     },
     "user_tz": -120
    },
    "id": "fjARERcFzlQg",
    "outputId": "2af5bb5b-63eb-43a4-bb42-54911d7ff664"
   },
   "outputs": [
    {
     "name": "stdout",
     "output_type": "stream",
     "text": [
      "N_train, D_train:  (49000, 784)\n",
      "N_test, D_test:  (21000, 784)\n",
      "Accuracy on training set: 0.9286326530612244\n",
      "Accuracy on test set: 0.9169047619047619\n",
      "[[2020    1    3    6    4   10   14    2   14    1]\n",
      " [   1 2312   16    5    3   13    4    7   28    3]\n",
      " [  13   27 1838   35   20   15   21   21   55    7]\n",
      " [  15    9   48 1921    8   78    3   23   42   21]\n",
      " [   3    3    7    4 1865    3   18    6   24   62]\n",
      " [  21   13    9   70   27 1703   39    6   48   17]\n",
      " [  16   10   13    1   22   37 1959    2   11    0]\n",
      " [  10    9   34    6   20    7    1 2045    5   54]\n",
      " [  13   51   27   47   14   60   18   13 1753   30]\n",
      " [  13    7   11   33   61   19    0   77   17 1839]]\n",
      "CPU times: user 2min 18s, sys: 27.6 s, total: 2min 46s\n",
      "Wall time: 46.1 s\n"
     ]
    }
   ],
   "source": [
    "%%time\n",
    "X_train, X_test, y_train, y_test = train_test_split(X, y, test_size=0.3)\n",
    "N_train, D_train = X_train.shape\n",
    "N_test, D_test = X_test.shape\n",
    "\n",
    "# normalize data\n",
    "X_train = X_train/255\n",
    "X_test = X_test/255\n",
    "\n",
    "print(\"N_train, D_train: \", (N_train, D_train))\n",
    "print(\"N_test, D_test: \", (N_test, D_test))\n",
    "\n",
    "\n",
    "# train linear model and predict\n",
    "lr = LogisticRegression(solver = 'lbfgs')\n",
    "lr.fit(X_train, y_train)\n",
    "y_pred = lr.predict(X_test)\n",
    "\n",
    "\n",
    "# metrics - how good are we?\n",
    "print(\"Accuracy on training set: {}\".format(lr.score(X_train, y_train)))\n",
    "print(\"Accuracy on test set: {}\".format(lr.score(X_test, y_test)))\n",
    "\n",
    "cm = confusion_matrix(y_test, y_pred)\n",
    "print(cm)"
   ]
  },
  {
   "cell_type": "code",
   "execution_count": null,
   "metadata": {
    "colab": {},
    "colab_type": "code",
    "id": "t6Lo_lBMzlQo"
   },
   "outputs": [],
   "source": []
  },
  {
   "cell_type": "code",
   "execution_count": null,
   "metadata": {
    "colab": {},
    "colab_type": "code",
    "id": "UPlPPZWyzlQr"
   },
   "outputs": [],
   "source": []
  },
  {
   "cell_type": "markdown",
   "metadata": {
    "colab_type": "text",
    "id": "KqRHfvcszlQs"
   },
   "source": [
    "## Use Neural Network"
   ]
  },
  {
   "cell_type": "code",
   "execution_count": 10,
   "metadata": {
    "colab": {},
    "colab_type": "code",
    "id": "M5X57o5TzlQu"
   },
   "outputs": [],
   "source": [
    "import tensorflow.keras as keras\n",
    "from tensorflow.keras.datasets import mnist\n",
    "from tensorflow.keras import layers\n",
    "\n",
    "(X_train, y_train), (X_test, y_test) = mnist.load_data()"
   ]
  },
  {
   "cell_type": "code",
   "execution_count": 11,
   "metadata": {
    "colab": {
     "base_uri": "https://localhost:8080/",
     "height": 53
    },
    "colab_type": "code",
    "executionInfo": {
     "elapsed": 112194,
     "status": "ok",
     "timestamp": 1559573311712,
     "user": {
      "displayName": "Rajbir Nirwan",
      "photoUrl": "",
      "userId": "17340735363459835320"
     },
     "user_tz": -120
    },
    "id": "soKwtB1NzlQy",
    "outputId": "bfa74d87-dd21-4657-cbd7-9f3457da1745"
   },
   "outputs": [
    {
     "name": "stdout",
     "output_type": "stream",
     "text": [
      "training data: (60000, 28, 28) (60000,)\n",
      "test data: (10000, 28, 28) (10000,)\n"
     ]
    }
   ],
   "source": [
    "# normalize data\n",
    "X_train = X_train/255\n",
    "X_test = X_test/255\n",
    "\n",
    "print(\"training data:\", X_train.shape, y_train.shape)\n",
    "print(\"test data:\", X_test.shape, y_test.shape)"
   ]
  },
  {
   "cell_type": "code",
   "execution_count": 12,
   "metadata": {
    "colab": {
     "base_uri": "https://localhost:8080/",
     "height": 281
    },
    "colab_type": "code",
    "executionInfo": {
     "elapsed": 112187,
     "status": "ok",
     "timestamp": 1559573311715,
     "user": {
      "displayName": "Rajbir Nirwan",
      "photoUrl": "",
      "userId": "17340735363459835320"
     },
     "user_tz": -120
    },
    "id": "AeXPpYp2zlQ3",
    "outputId": "8c98036a-8101-4cfb-e328-257c18cb095a"
   },
   "outputs": [
    {
     "data": {
      "image/png": "[encoded data removed]",
      "text/plain": [
       "<Figure size 432x288 with 1 Axes>"
      ]
     },
     "metadata": {
      "needs_background": "light"
     },
     "output_type": "display_data"
    }
   ],
   "source": [
    "rand = np.random.randint(0, X_train.shape[0])\n",
    "plot_image(X[rand].reshape(28,28), y[rand])"
   ]
  },
  {
   "cell_type": "code",
   "execution_count": 13,
   "metadata": {
    "colab": {
     "base_uri": "https://localhost:8080/",
     "height": 71
    },
    "colab_type": "code",
    "executionInfo": {
     "elapsed": 112179,
     "status": "ok",
     "timestamp": 1559573311717,
     "user": {
      "displayName": "Rajbir Nirwan",
      "photoUrl": "",
      "userId": "17340735363459835320"
     },
     "user_tz": -120
    },
    "id": "e_8nAL0mzlRC",
    "outputId": "f6b525b0-1941-48b9-dcb8-f97c14e08492"
   },
   "outputs": [
    {
     "name": "stdout",
     "output_type": "stream",
     "text": [
      "prev: \n",
      " [5 0]\n",
      "now: \n",
      " [[0. 0. 0. 0. 0. 1. 0. 0. 0. 0.]\n",
      " [1. 0. 0. 0. 0. 0. 0. 0. 0. 0.]]\n"
     ]
    }
   ],
   "source": [
    "# convert calss to categorical\n",
    "input_shape = (28,28,1)\n",
    "output_shape = 10\n",
    "\n",
    "X_train = X_train.reshape(list(X_train.shape)+[1,])\n",
    "X_test = X_test.reshape(list(X_test.shape)+[1,])\n",
    "\n",
    "print(\"prev: \\n\", y_train[:2])\n",
    "y_train = keras.utils.to_categorical(y_train, output_shape)\n",
    "y_test = keras.utils.to_categorical(y_test, output_shape)\n",
    "print(\"now: \\n\", y_train[:2])"
   ]
  },
  {
   "cell_type": "code",
   "execution_count": 14,
   "metadata": {
    "colab": {
     "base_uri": "https://localhost:8080/",
     "height": 216
    },
    "colab_type": "code",
    "executionInfo": {
     "elapsed": 171538,
     "status": "ok",
     "timestamp": 1559573371086,
     "user": {
      "displayName": "Rajbir Nirwan",
      "photoUrl": "",
      "userId": "17340735363459835320"
     },
     "user_tz": -120
    },
    "id": "azLJVlQFzlRK",
    "outputId": "b21f6b80-5afa-41fe-d78a-76986fe896d8"
   },
   "outputs": [
    {
     "name": "stdout",
     "output_type": "stream",
     "text": [
      "WARNING:tensorflow:From /home/nirwan/Desktop/tutorials/workshopTalentschmiede/lib/python3.5/site-packages/tensorflow/python/ops/resource_variable_ops.py:435: colocate_with (from tensorflow.python.framework.ops) is deprecated and will be removed in a future version.\n",
      "Instructions for updating:\n",
      "Colocations handled automatically by placer.\n",
      "Train on 60000 samples, validate on 10000 samples\n",
      "WARNING:tensorflow:From /home/nirwan/Desktop/tutorials/workshopTalentschmiede/lib/python3.5/site-packages/tensorflow/python/ops/math_ops.py:3066: to_int32 (from tensorflow.python.ops.math_ops) is deprecated and will be removed in a future version.\n",
      "Instructions for updating:\n",
      "Use tf.cast instead.\n",
      "60000/60000 [==============================] - 18s 301us/sample - loss: 0.1945 - acc: 0.9420 - val_loss: 0.0843 - val_acc: 0.9740\n",
      "Loss: 0.08430918136462569\n",
      "Accuracy: 0.974\n"
     ]
    }
   ],
   "source": [
    "#build model \n",
    "model = keras.Sequential()\n",
    "model.add(layers.Conv2D(16, 3, activation='relu', input_shape=input_shape))\n",
    "model.add(layers.Conv2D(8, 3))\n",
    "model.add(layers.Flatten())\n",
    "model.add(layers.Dense(16, activation='relu'))\n",
    "model.add(layers.Dense(output_shape, activation='softmax'))\n",
    "\n",
    "#compile model \n",
    "model.compile(loss=keras.losses.categorical_crossentropy,\n",
    "              optimizer=keras.optimizers.Adadelta(),\n",
    "              metrics=['accuracy'])\n",
    "\n",
    "#fit model \n",
    "model.fit(X_train, y_train, validation_data=(X_test, y_test))\n",
    "\n",
    "#evaluate model\n",
    "score = model.evaluate(X_test, y_test, verbose=0)\n",
    "print('Loss:', score[0])\n",
    "print('Accuracy:', score[1])"
   ]
  },
  {
   "cell_type": "code",
   "execution_count": 15,
   "metadata": {
    "colab": {
     "base_uri": "https://localhost:8080/",
     "height": 299
    },
    "colab_type": "code",
    "executionInfo": {
     "elapsed": 171894,
     "status": "ok",
     "timestamp": 1559573371451,
     "user": {
      "displayName": "Rajbir Nirwan",
      "photoUrl": "",
      "userId": "17340735363459835320"
     },
     "user_tz": -120
    },
    "id": "xuR2bXnazlRS",
    "outputId": "1a3f844f-3ff0-463a-d90b-b73f8a46ed9a"
   },
   "outputs": [
    {
     "name": "stdout",
     "output_type": "stream",
     "text": [
      "Predicted value: 2\n"
     ]
    },
    {
     "data": {
      "image/png": "[encoded data removed]",
      "text/plain": [
       "<Figure size 432x288 with 1 Axes>"
      ]
     },
     "metadata": {
      "needs_background": "light"
     },
     "output_type": "display_data"
    }
   ],
   "source": [
    "#plot some predicted images\n",
    "rand = np.random.randint(0, X_test.shape[0])\n",
    "X_to_pred = X_test[rand].reshape(28,28)\n",
    "y_true = np.argmax(y_test[rand])\n",
    "y_pred = model.predict(X_to_pred.reshape(1,28,28,1))\n",
    "y_pred = np.argmax(y_pred)\n",
    "\n",
    "plot_image(X_to_pred, y_true)\n",
    "print(\"Predicted value: {}\".format(y_pred))"
   ]
  },
  {
   "cell_type": "code",
   "execution_count": null,
   "metadata": {
    "colab": {},
    "colab_type": "code",
    "id": "l-Jug5JNzlRd"
   },
   "outputs": [],
   "source": []
  }
 ],
 "metadata": {
  "colab": {
   "name": "MNIST.ipynb",
   "provenance": [],
   "version": "0.3.2"
  },
  "kernelspec": {
   "display_name": "Python 3",
   "language": "python",
   "name": "python3"
  },
  "language_info": {
   "codemirror_mode": {
    "name": "ipython",
    "version": 3
   },
   "file_extension": ".py",
   "mimetype": "text/x-python",
   "name": "python",
   "nbconvert_exporter": "python",
   "pygments_lexer": "ipython3",
   "version": "3.5.2"
  }
 },
 "nbformat": 4,
 "nbformat_minor": 1
}
